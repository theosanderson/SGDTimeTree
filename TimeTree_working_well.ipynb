{
  "nbformat": 4,
  "nbformat_minor": 0,
  "metadata": {
    "colab": {
      "name": "TimeTree working well",
      "provenance": [],
      "collapsed_sections": [],
      "authorship_tag": "ABX9TyPk4GsYRWxvQILhIOIktXgP",
      "include_colab_link": true
    },
    "kernelspec": {
      "name": "python3",
      "display_name": "Python 3"
    },
    "accelerator": "GPU"
  },
  "cells": [
    {
      "cell_type": "markdown",
      "metadata": {
        "id": "view-in-github",
        "colab_type": "text"
      },
      "source": [
        "<a href=\"https://colab.research.google.com/github/theosanderson/SGDTimeTree/blob/main/TimeTree_working_well.ipynb\" target=\"_parent\"><img src=\"https://colab.research.google.com/assets/colab-badge.svg\" alt=\"Open In Colab\"/></a>"
      ]
    },
    {
      "cell_type": "code",
      "metadata": {
        "id": "bi4TQ0Ih8PQZ"
      },
      "source": [
        ""
      ],
      "execution_count": null,
      "outputs": []
    },
    {
      "cell_type": "code",
      "metadata": {
        "id": "g6zSM4ynJ6zo"
      },
      "source": [
        "#!unzip metadata.zip\r\n",
        "#!unzip named.tree_global.nwk.zip"
      ],
      "execution_count": 1,
      "outputs": []
    },
    {
      "cell_type": "code",
      "metadata": {
        "id": "AscLvkOWLWLY"
      },
      "source": [
        "#!pip install Bio"
      ],
      "execution_count": 2,
      "outputs": []
    },
    {
      "cell_type": "code",
      "metadata": {
        "id": "yqMwrGBqLVlQ"
      },
      "source": [
        "from Bio import Phylo\r\n",
        "import jax.numpy as jnp\r\n",
        "import numpy as onp\r\n",
        "import pandas as pd\r\n",
        "import tqdm\r\n",
        "import gzip\r\n",
        "import jax"
      ],
      "execution_count": 3,
      "outputs": []
    },
    {
      "cell_type": "code",
      "metadata": {
        "id": "Mq-8sMkKhw95"
      },
      "source": [
        "#!unzip metadata.zip\r\n",
        "#!unzip named.tree_global.nwk.zip"
      ],
      "execution_count": 4,
      "outputs": []
    },
    {
      "cell_type": "code",
      "metadata": {
        "colab": {
          "base_uri": "https://localhost:8080/"
        },
        "id": "6H_OL02fLSjX",
        "outputId": "745d6ccc-236c-4815-c3a2-c287f47edf68"
      },
      "source": [
        "tree = Phylo.read(\"named.tree_global.nwk\",\"newick\")\r\n",
        "\r\n",
        "substitutions_per_site_per_year = 1e-3\r\n",
        "metadata = pd.read_table(\"metadata.tsv\")\r\n",
        "import datetime\r\n",
        "lookup = {}\r\n",
        "for i,row in tqdm.tqdm(metadata.iterrows()):\r\n",
        "    try:\r\n",
        "        lookup[row['strain']] = datetime.datetime.strptime(row['date'],'%Y-%m-%d')\r\n",
        "    except:\r\n",
        "        pass\r\n",
        "del metadata"
      ],
      "execution_count": 5,
      "outputs": [
        {
          "output_type": "stream",
          "text": [
            "/usr/local/lib/python3.6/dist-packages/IPython/core/interactiveshell.py:2822: DtypeWarning: Columns (8) have mixed types.Specify dtype option on import or set low_memory=False.\n",
            "  if self.run_code(code, result):\n",
            "506964it [00:51, 9870.41it/s]\n"
          ],
          "name": "stderr"
        }
      ]
    },
    {
      "cell_type": "code",
      "metadata": {
        "id": "iQYVz2J5Kxrx"
      },
      "source": [
        "def target_dates():\r\n",
        "    output = {}\r\n",
        "    for terminal in tree.root.get_terminals():\r\n",
        "        if terminal.name in lookup:\r\n",
        "            date = lookup[terminal.name]\r\n",
        "            diff = (date - lookup['Wuhan/WH04/2020']).days\r\n",
        "            output[terminal.name] = diff\r\n",
        "    return output"
      ],
      "execution_count": 6,
      "outputs": []
    },
    {
      "cell_type": "code",
      "metadata": {
        "id": "n6ciwDswLNeM"
      },
      "source": [
        "the_target_dates = target_dates()\r\n",
        "terminal_names = the_target_dates.keys()\r\n",
        "terminal_targets = [float(the_target_dates[x]) for x in terminal_names]\r\n",
        "terminal_targets_array = jnp.asarray(terminal_targets)"
      ],
      "execution_count": 7,
      "outputs": []
    },
    {
      "cell_type": "code",
      "metadata": {
        "id": "zxVVjEBZPTa4"
      },
      "source": [
        "terminal_name_to_pos = {x:i for i,x in enumerate(terminal_names)}"
      ],
      "execution_count": 8,
      "outputs": []
    },
    {
      "cell_type": "code",
      "metadata": {
        "colab": {
          "base_uri": "https://localhost:8080/"
        },
        "id": "H5NrnG9GL8vg",
        "outputId": "16b894d5-4c95-4776-9312-c2809c477c3a"
      },
      "source": [
        "def assign_paths(tree):\r\n",
        "  for node in tqdm.tqdm(tree.get_nonterminals()):\r\n",
        "      for clade in node.clades:\r\n",
        "          if node==tree.root:\r\n",
        "              clade.path=[node]\r\n",
        "          else:\r\n",
        "              clade.path = node.path+[node,]\r\n",
        "assign_paths(tree)"
      ],
      "execution_count": 9,
      "outputs": [
        {
          "output_type": "stream",
          "text": [
            "100%|██████████| 275440/275440 [00:03<00:00, 76758.06it/s]\n"
          ],
          "name": "stderr"
        }
      ]
    },
    {
      "cell_type": "code",
      "metadata": {
        "id": "CSqbfpglMkNn"
      },
      "source": [
        "substitutions_per_site_per_year = 1e-3\r\n",
        "initial_branch_lengths = {}\r\n",
        "for i,node in enumerate(tree.root.find_clades()):\r\n",
        "    initial_branch_lengths[node.name]=365*node.branch_length/substitutions_per_site_per_year\r\n",
        "names_init = initial_branch_lengths.keys()\r\n",
        "values_init = [initial_branch_lengths[x] for x in names_init]\r\n",
        "name_to_pos = {x:i for i,x in enumerate(names_init)}"
      ],
      "execution_count": 10,
      "outputs": []
    },
    {
      "cell_type": "code",
      "metadata": {
        "id": "oM1VabOcNl0Y"
      },
      "source": [
        "branch_lengths_array = jnp.array(values_init)"
      ],
      "execution_count": 11,
      "outputs": []
    },
    {
      "cell_type": "code",
      "metadata": {
        "id": "B-FA3Ih3OFq6"
      },
      "source": [
        "rows = []\r\n",
        "cols = []\r\n",
        "\r\n",
        "\r\n",
        "for i,node in enumerate(tree.root.get_terminals()):\r\n",
        "\r\n",
        "    if node.name in terminal_name_to_pos:\r\n",
        "      for item in node.path + [node,]:\r\n",
        "        rows.append(terminal_name_to_pos[node.name])\r\n",
        "        cols.append(name_to_pos[item.name])\r\n"
      ],
      "execution_count": 12,
      "outputs": []
    },
    {
      "cell_type": "code",
      "metadata": {
        "id": "hjzq-yQIQW-H"
      },
      "source": [
        "rows = jnp.asarray(rows)\r\n",
        "cols = jnp.asarray(cols)"
      ],
      "execution_count": null,
      "outputs": []
    },
    {
      "cell_type": "code",
      "metadata": {
        "id": "YAjA-aW2Szyg"
      },
      "source": [
        "@jax.partial(jax.jit, static_argnums=(2))\r\n",
        "def sp_matmul(A, B, shape):\r\n",
        "    \"\"\"\r\n",
        "    Arguments:\r\n",
        "        A: (N, M) sparse matrix represented as a tuple (indexes, values)\r\n",
        "        B: (M,K) dense matrix\r\n",
        "        shape: value of N\r\n",
        "    Returns:\r\n",
        "        (N, K) dense matrix\r\n",
        "    \"\"\"\r\n",
        "    assert B.ndim == 2\r\n",
        "    indexes, values = A\r\n",
        "    rows, cols = indexes\r\n",
        "    in_ = B.take(cols, axis=0)\r\n",
        "    prod = in_*values[:, None]\r\n",
        "    res = jax.ops.segment_sum(prod, rows, shape)\r\n",
        "    return res"
      ],
      "execution_count": null,
      "outputs": []
    },
    {
      "cell_type": "code",
      "metadata": {
        "id": "m8hiWqMhSkeA"
      },
      "source": [
        "num= len(terminal_name_to_pos)\r\n",
        "\r\n",
        "@jax.jit\r\n",
        "def calc_dates(branch_lengths_array):\r\n",
        "  A= ((rows,cols),jnp.ones_like(cols))\r\n",
        "  B=branch_lengths_array.reshape((640476,1))\r\n",
        "  calc_dates = sp_matmul(A,B,num).squeeze()\r\n",
        "  return calc_dates\r\n",
        "\r\n",
        "\r\n",
        "\r\n",
        "@jax.jit\r\n",
        "def get_loss(branch_lengths_array):\r\n",
        "  calced_dates =calc_dates(branch_lengths_array)\r\n",
        "  loss= jnp.sum((terminal_targets_array-calced_dates)**2)*10\r\n",
        "  loss+= jnp.sum((initial_branch_lengths_array-branch_lengths_array)**2)\r\n",
        "\r\n",
        "\r\n",
        "  # Alternative idea for 'self calibration':\r\n",
        "  #ratio = jnp.sum(branch_lengths_array) / jnp.sum(initial_branch_lengths_array)\r\n",
        "  #loss+= 100 * jnp.var(initial_branch_lengths_array*ratio - branch_lengths_array )\r\n",
        "\r\n",
        "  \r\n",
        "  # Penalise negative branch lengths\r\n",
        "  loss += 70*jnp.sum( jnp.maximum(float(-2), -branch_lengths_array)**2  )\r\n",
        "  return loss\r\n",
        "\r\n",
        "\r\n",
        "grad_get_loss = jax.jit(jax.grad(get_loss))\r\n"
      ],
      "execution_count": null,
      "outputs": []
    },
    {
      "cell_type": "code",
      "metadata": {
        "id": "HWXyc-L7YHeh"
      },
      "source": [
        "cur_branch_lengths_array = jnp.array(branch_lengths_array)\r\n",
        "initial_branch_lengths_array = branch_lengths_array\r\n"
      ],
      "execution_count": null,
      "outputs": []
    },
    {
      "cell_type": "code",
      "metadata": {
        "id": "wD2dlXmUWxPI"
      },
      "source": [
        "#8805934.0\r\n",
        "21025694000.0\r\n",
        "7669196300.0\r\n",
        "7156918000.0\r\n",
        "6866454000.0\r\n",
        "6667853300.0\r\n",
        "6519100400.0\r\n",
        "6400666600.0\r\n",
        "6302144000.0\r\n",
        "6217548000.0"
      ],
      "execution_count": null,
      "outputs": []
    },
    {
      "cell_type": "code",
      "metadata": {
        "id": "SLbnBA36W5jB"
      },
      "source": [
        "from jax.experimental import optimizers\r\n",
        "opt_init, opt_update, get_params = optimizers.rmsprop_momentum(1e-3)\r\n",
        "opt_state = opt_init(cur_branch_lengths_array)\r\n",
        "\r\n",
        "def step(step, opt_state):\r\n",
        "  value, grads = jax.value_and_grad(get_loss)(get_params(opt_state))\r\n",
        "  jitted_update = jax.jit(opt_update)\r\n",
        "  opt_state = jitted_update(step, grads, opt_state)\r\n",
        "  return value, opt_state\r\n",
        "\r\n"
      ],
      "execution_count": null,
      "outputs": []
    },
    {
      "cell_type": "code",
      "metadata": {
        "id": "XfBdhpShCiQk"
      },
      "source": [
        "for i in range(10000000):\r\n",
        "  value, opt_state = step(i, opt_state)\r\n",
        "  if(i%100==0):\r\n",
        "    print(value)"
      ],
      "execution_count": null,
      "outputs": []
    },
    {
      "cell_type": "code",
      "metadata": {
        "id": "fG2Fh4m6vFP5"
      },
      "source": [
        "\r\n",
        "params = get_params(opt_state)"
      ],
      "execution_count": null,
      "outputs": []
    },
    {
      "cell_type": "code",
      "metadata": {
        "id": "Laklfy3H5eEc"
      },
      "source": [
        "calc_dates(params)"
      ],
      "execution_count": null,
      "outputs": []
    },
    {
      "cell_type": "code",
      "metadata": {
        "id": "94enxMiB-gwN"
      },
      "source": [
        "terminal_targets[-5:]"
      ],
      "execution_count": null,
      "outputs": []
    },
    {
      "cell_type": "code",
      "metadata": {
        "id": "jDmZx20C5g3E"
      },
      "source": [
        "plt.scatter(calc_dates(params),terminal_targets,alpha=0.002)"
      ],
      "execution_count": null,
      "outputs": []
    },
    {
      "cell_type": "code",
      "metadata": {
        "id": "sePvS2VUioBh"
      },
      "source": [
        "from matplotlib import pyplot as plt"
      ],
      "execution_count": null,
      "outputs": []
    },
    {
      "cell_type": "code",
      "metadata": {
        "id": "2LASrdzevZL4"
      },
      "source": [
        "plt.hist(params[params<80],bins=150)"
      ],
      "execution_count": null,
      "outputs": []
    },
    {
      "cell_type": "code",
      "metadata": {
        "id": "A7-PmMiPvaLo"
      },
      "source": [
        "params.min()"
      ],
      "execution_count": null,
      "outputs": []
    },
    {
      "cell_type": "code",
      "metadata": {
        "id": "jHqOrC1LwQPI"
      },
      "source": [
        "plt.scatter( initial_branch_lengths_array,params,alpha=0.002)"
      ],
      "execution_count": null,
      "outputs": []
    },
    {
      "cell_type": "code",
      "metadata": {
        "id": "PlG77tOp-6NM"
      },
      "source": [
        ""
      ],
      "execution_count": null,
      "outputs": []
    }
  ]
}